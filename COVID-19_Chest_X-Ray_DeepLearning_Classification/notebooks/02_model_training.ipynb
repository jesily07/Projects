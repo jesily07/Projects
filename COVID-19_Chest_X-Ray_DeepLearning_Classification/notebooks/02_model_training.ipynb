{
 "cells": [
  {
   "cell_type": "markdown",
   "id": "96adcd97-ee4f-4e07-af01-9610f22714ea",
   "metadata": {},
   "source": [
    "### Model Building & Training (Transfer Learning)"
   ]
  },
  {
   "cell_type": "raw",
   "id": "9514ae27-9588-4e7f-98bc-fbb8351ae38f",
   "metadata": {},
   "source": [
    "Objective:\n",
    "- Build a deep learning model for classification using Transfer Learning.\n",
    "- Use ResNet50 as a pretrained backbone.\n",
    "- Fine-tune it on your preprocessed dataset (chest X-rays).\n",
    "- Save the trained model for later use."
   ]
  },
  {
   "cell_type": "code",
   "execution_count": 1,
   "id": "3e51c95f-d0a6-40e0-9815-6028387a95f3",
   "metadata": {},
   "outputs": [],
   "source": [
    "# Import Libraries\n",
    "\n",
    "import tensorflow as tf\n",
    "from tensorflow.keras.applications import ResNet50\n",
    "from tensorflow.keras.models import Model\n",
    "from tensorflow.keras.layers import Dense, GlobalAveragePooling2D, Dropout\n",
    "from tensorflow.keras.optimizers import Adam\n",
    "from tensorflow.keras.callbacks import ModelCheckpoint, EarlyStopping"
   ]
  },
  {
   "cell_type": "code",
   "execution_count": 2,
   "id": "9f7301a4-b190-4b12-87ef-5e7e529dd354",
   "metadata": {},
   "outputs": [
    {
     "name": "stdout",
     "output_type": "stream",
     "text": [
      "Found 16933 images belonging to 4 classes.\n",
      "Found 4232 images belonging to 4 classes.\n"
     ]
    }
   ],
   "source": [
    "# Load Preprocessed Data \n",
    "\n",
    "dataset_path = \"COVID-19_Radiography_Dataset\"\n",
    "\n",
    "# Reuse same preprocessing config\n",
    "img_height, img_width = 224, 224\n",
    "batch_size = 32\n",
    "\n",
    "train_datagen = tf.keras.preprocessing.image.ImageDataGenerator(\n",
    "    rescale=1./255,\n",
    "    validation_split=0.2\n",
    ")\n",
    "\n",
    "train_generator = train_datagen.flow_from_directory(\n",
    "    dataset_path,\n",
    "    target_size=(img_height, img_width),\n",
    "    batch_size=batch_size,\n",
    "    class_mode='categorical',\n",
    "    subset='training',\n",
    "    shuffle=True,\n",
    "    seed=42\n",
    ")\n",
    "\n",
    "val_generator = train_datagen.flow_from_directory(\n",
    "    dataset_path,\n",
    "    target_size=(img_height, img_width),\n",
    "    batch_size=batch_size,\n",
    "    class_mode='categorical',\n",
    "    subset='validation',\n",
    "    shuffle=False\n",
    ")"
   ]
  },
  {
   "cell_type": "code",
   "execution_count": 3,
   "id": "26ec60ba-f110-48dc-80ec-9d196b31c129",
   "metadata": {},
   "outputs": [],
   "source": [
    "# Load ResNet50 Pretrained Model (Transfer Learning)\n",
    "\n",
    "base_model = ResNet50(\n",
    "    weights='imagenet',    # Pretrained on ImageNet\n",
    "    include_top=False,     # Remove top classification layers\n",
    "    input_shape=(img_height, img_width, 3)\n",
    ")\n",
    "\n",
    "# Freeze Base Model Layers (for Transfer Learning Stage 1)\n",
    "base_model.trainable = False"
   ]
  },
  {
   "cell_type": "code",
   "execution_count": 4,
   "id": "b7bb5512-5fca-45a7-b7d9-bfcaf043f1eb",
   "metadata": {},
   "outputs": [],
   "source": [
    "# Add Custom Classification Layers\n",
    "\n",
    "x = base_model.output\n",
    "x = GlobalAveragePooling2D()(x)\n",
    "x = Dense(128, activation='relu')(x)\n",
    "x = Dropout(0.3)(x)\n",
    "predictions = Dense(4, activation='softmax')(x)  # 4 classes\n",
    "\n",
    "model = Model(inputs=base_model.input, outputs=predictions)"
   ]
  },
  {
   "cell_type": "code",
   "execution_count": 5,
   "id": "07f1d8aa-d32d-4e3d-aec9-0094038fd52e",
   "metadata": {},
   "outputs": [],
   "source": [
    "# Compile Model\n",
    "\n",
    "model.compile(\n",
    "    optimizer=Adam(learning_rate=0.0001),\n",
    "    loss='categorical_crossentropy',\n",
    "    metrics=['accuracy']\n",
    ")"
   ]
  },
  {
   "cell_type": "code",
   "execution_count": 6,
   "id": "9cf1e28f-97a5-4da8-b9fe-2b8d33e370de",
   "metadata": {},
   "outputs": [],
   "source": [
    "# Model Callbacks (Checkpoint & EarlyStopping)\n",
    "\n",
    "checkpoint = ModelCheckpoint(\n",
    "    \"best_model_resnet50.h5\",\n",
    "    monitor=\"val_accuracy\",\n",
    "    save_best_only=True,\n",
    "    verbose=1\n",
    ")\n",
    "\n",
    "early_stop = EarlyStopping(\n",
    "    monitor=\"val_loss\",\n",
    "    patience=5,\n",
    "    restore_best_weights=True,\n",
    "    verbose=1\n",
    ")"
   ]
  },
  {
   "cell_type": "code",
   "execution_count": 7,
   "id": "279d84d3-e29e-43a7-b128-cb38cfdc67d1",
   "metadata": {},
   "outputs": [
    {
     "name": "stdout",
     "output_type": "stream",
     "text": [
      "Epoch 1/15\n",
      "530/530 [==============================] - ETA: 0s - loss: 1.2200 - accuracy: 0.4631     \n",
      "Epoch 1: val_accuracy improved from -inf to 0.48157, saving model to best_model_resnet50.h5\n",
      "530/530 [==============================] - 2944s 6s/step - loss: 1.2200 - accuracy: 0.4631 - val_loss: 1.1583 - val_accuracy: 0.4816\n",
      "Epoch 2/15\n",
      "530/530 [==============================] - ETA: 0s - loss: 1.1734 - accuracy: 0.4885   \n",
      "Epoch 2: val_accuracy did not improve from 0.48157\n",
      "530/530 [==============================] - 3338s 6s/step - loss: 1.1734 - accuracy: 0.4885 - val_loss: 1.1336 - val_accuracy: 0.4816\n",
      "Epoch 3/15\n",
      "530/530 [==============================] - ETA: 0s - loss: 1.1512 - accuracy: 0.4983     \n",
      "Epoch 3: val_accuracy did not improve from 0.48157\n",
      "530/530 [==============================] - 3295s 6s/step - loss: 1.1512 - accuracy: 0.4983 - val_loss: 1.1184 - val_accuracy: 0.4816\n",
      "Epoch 4/15\n",
      "530/530 [==============================] - ETA: 0s - loss: 1.1342 - accuracy: 0.5123   \n",
      "Epoch 4: val_accuracy improved from 0.48157 to 0.52009, saving model to best_model_resnet50.h5\n",
      "530/530 [==============================] - 2832s 5s/step - loss: 1.1342 - accuracy: 0.5123 - val_loss: 1.0839 - val_accuracy: 0.5201\n",
      "Epoch 5/15\n",
      "530/530 [==============================] - ETA: 0s - loss: 1.1170 - accuracy: 0.5349   \n",
      "Epoch 5: val_accuracy improved from 0.52009 to 0.57491, saving model to best_model_resnet50.h5\n",
      "530/530 [==============================] - 2813s 5s/step - loss: 1.1170 - accuracy: 0.5349 - val_loss: 1.0627 - val_accuracy: 0.5749\n",
      "Epoch 6/15\n",
      "530/530 [==============================] - ETA: 0s - loss: 1.1032 - accuracy: 0.5427     \n",
      "Epoch 6: val_accuracy improved from 0.57491 to 0.57656, saving model to best_model_resnet50.h5\n",
      "530/530 [==============================] - 3125s 6s/step - loss: 1.1032 - accuracy: 0.5427 - val_loss: 1.0515 - val_accuracy: 0.5766\n",
      "Epoch 7/15\n",
      "530/530 [==============================] - ETA: 0s - loss: 1.0897 - accuracy: 0.5542     \n",
      "Epoch 7: val_accuracy improved from 0.57656 to 0.58956, saving model to best_model_resnet50.h5\n",
      "530/530 [==============================] - 3125s 6s/step - loss: 1.0897 - accuracy: 0.5542 - val_loss: 1.0340 - val_accuracy: 0.5896\n",
      "Epoch 8/15\n",
      "530/530 [==============================] - ETA: 0s - loss: 1.0786 - accuracy: 0.5588   \n",
      "Epoch 8: val_accuracy improved from 0.58956 to 0.59003, saving model to best_model_resnet50.h5\n",
      "530/530 [==============================] - 2922s 6s/step - loss: 1.0786 - accuracy: 0.5588 - val_loss: 1.0246 - val_accuracy: 0.5900\n",
      "Epoch 9/15\n",
      "530/530 [==============================] - ETA: 0s - loss: 1.0692 - accuracy: 0.5664     \n",
      "Epoch 9: val_accuracy improved from 0.59003 to 0.59664, saving model to best_model_resnet50.h5\n",
      "530/530 [==============================] - 3602s 7s/step - loss: 1.0692 - accuracy: 0.5664 - val_loss: 1.0056 - val_accuracy: 0.5966\n",
      "Epoch 10/15\n",
      "530/530 [==============================] - ETA: 0s - loss: 1.0587 - accuracy: 0.5666     \n",
      "Epoch 10: val_accuracy improved from 0.59664 to 0.59901, saving model to best_model_resnet50.h5\n",
      "530/530 [==============================] - 3777s 7s/step - loss: 1.0587 - accuracy: 0.5666 - val_loss: 0.9956 - val_accuracy: 0.5990\n",
      "Epoch 11/15\n",
      "530/530 [==============================] - ETA: 0s - loss: 1.0499 - accuracy: 0.5697     \n",
      "Epoch 11: val_accuracy improved from 0.59901 to 0.60019, saving model to best_model_resnet50.h5\n",
      "530/530 [==============================] - 4086s 8s/step - loss: 1.0499 - accuracy: 0.5697 - val_loss: 0.9876 - val_accuracy: 0.6002\n",
      "Epoch 12/15\n",
      "530/530 [==============================] - ETA: 0s - loss: 1.0426 - accuracy: 0.5731   \n",
      "Epoch 12: val_accuracy did not improve from 0.60019\n",
      "530/530 [==============================] - 3459s 7s/step - loss: 1.0426 - accuracy: 0.5731 - val_loss: 0.9859 - val_accuracy: 0.6002\n",
      "Epoch 13/15\n",
      "530/530 [==============================] - ETA: 0s - loss: 1.0351 - accuracy: 0.5738   \n",
      "Epoch 13: val_accuracy did not improve from 0.60019\n",
      "530/530 [==============================] - 4034s 8s/step - loss: 1.0351 - accuracy: 0.5738 - val_loss: 0.9887 - val_accuracy: 0.5936\n",
      "Epoch 14/15\n",
      "530/530 [==============================] - ETA: 0s - loss: 1.0227 - accuracy: 0.5764   \n",
      "Epoch 14: val_accuracy improved from 0.60019 to 0.60562, saving model to best_model_resnet50.h5\n",
      "530/530 [==============================] - 2984s 6s/step - loss: 1.0227 - accuracy: 0.5764 - val_loss: 0.9662 - val_accuracy: 0.6056\n",
      "Epoch 15/15\n",
      "530/530 [==============================] - ETA: 0s - loss: 1.0168 - accuracy: 0.5799   \n",
      "Epoch 15: val_accuracy improved from 0.60562 to 0.60822, saving model to best_model_resnet50.h5\n",
      "530/530 [==============================] - 2605s 5s/step - loss: 1.0168 - accuracy: 0.5799 - val_loss: 0.9603 - val_accuracy: 0.6082\n"
     ]
    }
   ],
   "source": [
    "# Train Model\n",
    "\n",
    "history = model.fit(\n",
    "    train_generator,\n",
    "    epochs=15,\n",
    "    validation_data=val_generator,\n",
    "    callbacks=[checkpoint, early_stop]\n",
    ")"
   ]
  },
  {
   "cell_type": "code",
   "execution_count": 8,
   "id": "6fe12e72-b49b-4310-969d-501f64f4d702",
   "metadata": {},
   "outputs": [
    {
     "data": {
      "image/png": "[encoded data removed]",
      "text/plain": [
       "<Figure size 1200x500 with 2 Axes>"
      ]
     },
     "metadata": {},
     "output_type": "display_data"
    }
   ],
   "source": [
    "# Visualize Training & Validation Metrics\n",
    "\n",
    "import matplotlib.pyplot as plt\n",
    "\n",
    "# Plot Accuracy\n",
    "plt.figure(figsize=(12, 5))\n",
    "plt.subplot(1, 2, 1)\n",
    "plt.plot(history.history['accuracy'], label='Train Accuracy')\n",
    "plt.plot(history.history['val_accuracy'], label='Val Accuracy')\n",
    "plt.xlabel('Epoch')\n",
    "plt.ylabel('Accuracy')\n",
    "plt.title('Training vs Validation Accuracy')\n",
    "plt.legend()\n",
    "\n",
    "# Plot Loss\n",
    "plt.subplot(1, 2, 2)\n",
    "plt.plot(history.history['loss'], label='Train Loss')\n",
    "plt.plot(history.history['val_loss'], label='Val Loss')\n",
    "plt.xlabel('Epoch')\n",
    "plt.ylabel('Loss')\n",
    "plt.title('Training vs Validation Loss')\n",
    "plt.legend()\n",
    "\n",
    "plt.tight_layout()\n",
    "plt.show()"
   ]
  },
  {
   "cell_type": "code",
   "execution_count": 9,
   "id": "51c3490b-1aa4-4642-9f5b-51193d109d9c",
   "metadata": {},
   "outputs": [
    {
     "name": "stdout",
     "output_type": "stream",
     "text": [
      "133/133 [==============================] - 528s 4s/step\n"
     ]
    }
   ],
   "source": [
    "# Evaluation Metrics\n",
    "\n",
    "from sklearn.metrics import classification_report, confusion_matrix, roc_auc_score\n",
    "import numpy as np\n",
    "\n",
    "# Get true labels & predictions\n",
    "val_generator.reset()\n",
    "Y_true = val_generator.classes\n",
    "Y_pred_prob = model.predict(val_generator)\n",
    "Y_pred = np.argmax(Y_pred_prob, axis=1)\n",
    "\n",
    "# Class labels\n",
    "class_labels = list(val_generator.class_indices.keys())"
   ]
  },
  {
   "cell_type": "code",
   "execution_count": 10,
   "id": "bcdb7449-29c7-4035-9ed8-848ca9de8cbd",
   "metadata": {},
   "outputs": [
    {
     "name": "stdout",
     "output_type": "stream",
     "text": [
      "Confusion Matrix:\n",
      " [[   0  402  321    0]\n",
      " [   0  874  328    0]\n",
      " [   0  338 1700    0]\n",
      " [   0   45  224    0]]\n",
      "Classification Report:\n",
      "                  precision    recall  f1-score   support\n",
      "\n",
      "          COVID       0.00      0.00      0.00       723\n",
      "   Lung_Opacity       0.53      0.73      0.61      1202\n",
      "         Normal       0.66      0.83      0.74      2038\n",
      "Viral Pneumonia       0.00      0.00      0.00       269\n",
      "\n",
      "       accuracy                           0.61      4232\n",
      "      macro avg       0.30      0.39      0.34      4232\n",
      "   weighted avg       0.47      0.61      0.53      4232\n",
      "\n",
      "AUC Score (macro): 0.8274\n"
     ]
    },
    {
     "name": "stderr",
     "output_type": "stream",
     "text": [
      "C:\\Users\\Admin\\miniconda3\\envs\\tensorflow\\lib\\site-packages\\sklearn\\metrics\\_classification.py:1565: UndefinedMetricWarning: Precision is ill-defined and being set to 0.0 in labels with no predicted samples. Use `zero_division` parameter to control this behavior.\n",
      "  _warn_prf(average, modifier, f\"{metric.capitalize()} is\", len(result))\n",
      "C:\\Users\\Admin\\miniconda3\\envs\\tensorflow\\lib\\site-packages\\sklearn\\metrics\\_classification.py:1565: UndefinedMetricWarning: Precision is ill-defined and being set to 0.0 in labels with no predicted samples. Use `zero_division` parameter to control this behavior.\n",
      "  _warn_prf(average, modifier, f\"{metric.capitalize()} is\", len(result))\n",
      "C:\\Users\\Admin\\miniconda3\\envs\\tensorflow\\lib\\site-packages\\sklearn\\metrics\\_classification.py:1565: UndefinedMetricWarning: Precision is ill-defined and being set to 0.0 in labels with no predicted samples. Use `zero_division` parameter to control this behavior.\n",
      "  _warn_prf(average, modifier, f\"{metric.capitalize()} is\", len(result))\n"
     ]
    }
   ],
   "source": [
    "# Confusion Matrix\n",
    "cm = confusion_matrix(Y_true, Y_pred)\n",
    "print(\"Confusion Matrix:\\n\", cm)\n",
    "\n",
    "# Classification Report\n",
    "report = classification_report(Y_true, Y_pred, target_names=class_labels)\n",
    "print(\"Classification Report:\\n\", report)\n",
    "\n",
    "# AUC Score (macro-average across classes)\n",
    "try:\n",
    "    auc = roc_auc_score(tf.keras.utils.to_categorical(Y_true), Y_pred_prob, multi_class='ovo', average='macro')\n",
    "    print(f\"AUC Score (macro): {auc:.4f}\")\n",
    "except Exception as e:\n",
    "    print(\"AUC Score could not be computed:\", str(e))"
   ]
  },
  {
   "cell_type": "raw",
   "id": "9d670826-0b1b-4c47-ae0c-eb73f8e69f47",
   "metadata": {},
   "source": [
    "Evaluation Summary:\n",
    "*******************\n",
    "\n",
    "1. Overall Accuracy: 61%\n",
    "Not bad for a first pass using a frozen ResNet50. There's room to improve via fine-tuning, class balancing, or architecture upgrade.\n",
    "\n",
    "\n",
    "2. Confusion Matrix Insight (Simplified View):\n",
    "| True Class          | Predicted as Lung\\_Opacity | Predicted as Normal |\n",
    "| ------------------- | -------------------------- | ------------------- |\n",
    "| **COVID**           | 383                        | 340                 |\n",
    "| **Lung\\_Opacity**   | 874                        | 328                 |\n",
    "| **Normal**          | 324                        | 1714                |\n",
    "| **Viral Pneumonia** | 56                         | 213                 |\n",
    "\n",
    "- No class was predicted as COVID or Viral Pneumonia at all.\n",
    "- Model only predicts two classes: Lung_Opacity and Normal.\n",
    "\n",
    "\n",
    "3. Classification Report Highlights:\n",
    "| Class            | Precision | Recall | F1-Score | Support |\n",
    "| ---------------- | --------- | ------ | -------- | ------- |\n",
    "| COVID            | **0.00**  | 0.00   | 0.00     | 723     |\n",
    "| Lung\\_Opacity    | 0.53      | 0.73   | 0.62     | 1202    |\n",
    "| Normal           | 0.66      | 0.84   | 0.74     | 2038    |\n",
    "| Viral Pneumonia  | **0.00**  | 0.00   | 0.00     | 269     |\n",
    "| **Weighted Avg** | 0.47      | 0.61   | 0.53     | 4232    |\n",
    "| **Macro Avg**    | **0.30**  | 0.39   | 0.34     |         |\n",
    "\n",
    "\n",
    "4. AUC Score: 0.84 (Macro Average)\n",
    "This is surprisingly high, which suggests the model's confidence scores (softmax outputs) are well calibrated, even though final predictions collapse to 2 classes.\n",
    "\n",
    "\n",
    "5. Key Issue: Class Collapse\n",
    "Model is not predicting any COVID or Viral Pneumonia images. This leads to:\n",
    "\n",
    "- Precision/recall = 0 for these classes\n",
    "- Poor macro-averaged metrics\n",
    "\n",
    "Likely Root Causes:\n",
    "| Cause                            | Description                                                                  |\n",
    "| -------------------------------- | ---------------------------------------------------------------------------- |\n",
    "| **1. Class Imbalance**           | Normal & Lung\\_Opacity dominate; model biased toward them.                   |\n",
    "| **2. Frozen Base Model**         | Only top layers are learning; base ResNet not fine-tuned.                    |\n",
    "| **3. Small Top Model Capacity**  | Your classifier has only 1 hidden layer (Dense 128) — possibly underfitting. |\n",
    "| **4. Insufficient Augmentation** | COVID & Pneumonia images may lack diversity compared to Normal.              |"
   ]
  },
  {
   "cell_type": "raw",
   "id": "ac7a5d7e-1368-40d7-9ba3-b589c096a233",
   "metadata": {},
   "source": [
    "Fine-tune the model now with unfreezing + class weights\n",
    "\n",
    "Let’s fine-tune the model with both:\n",
    "- Unfreezing upper ResNet50 layers\n",
    "- Using class weights to handle class imbalance"
   ]
  },
  {
   "cell_type": "code",
   "execution_count": 11,
   "id": "2da25a0c-8d84-4fe2-bfb6-4647154ef1d8",
   "metadata": {},
   "outputs": [],
   "source": [
    "# Fine-Tuning + Class Weights\n",
    "\n",
    "# Step 1: Unfreeze Top ResNet50 Layers\n",
    "# Unfreeze last 75 layers of ResNet50 for fine-tuning:\n",
    "\n",
    "\n",
    "base_model.trainable = True\n",
    "\n",
    "# Freeze the first 100 layers\n",
    "for layer in base_model.layers[:100]:\n",
    "    layer.trainable = False"
   ]
  },
  {
   "cell_type": "code",
   "execution_count": 12,
   "id": "7c5ab438-847e-456b-b40f-b9bb1377827d",
   "metadata": {},
   "outputs": [],
   "source": [
    "# Step 2: Recompile the Model with Lower Learning Rate\n",
    "# Fine-tuning requires a smaller learning rate to avoid destroying pretrained weights:\n",
    "\n",
    "from tensorflow.keras.optimizers import Adam\n",
    "\n",
    "model.compile(\n",
    "    optimizer=Adam(learning_rate=1e-5),   # Lower LR for fine-tuning\n",
    "    loss='categorical_crossentropy',\n",
    "    metrics=['accuracy']\n",
    ")"
   ]
  },
  {
   "cell_type": "code",
   "execution_count": 13,
   "id": "31ce652e-5a6a-42df-a428-aa6a3361a17f",
   "metadata": {},
   "outputs": [
    {
     "name": "stdout",
     "output_type": "stream",
     "text": [
      "Class Weights: {0: 1.4632734185966125, 1: 0.8800935550935551, 2: 0.5191623742948246, 3: 3.9342472118959106}\n",
      "Class Weights: {0: 1.4632734185966125, 1: 0.8800935550935551, 2: 0.5191623742948246, 3: 3.9342472118959106}\n"
     ]
    }
   ],
   "source": [
    "# Step 3: Compute Class Weights\n",
    "\n",
    "from sklearn.utils import class_weight\n",
    "import numpy as np\n",
    "\n",
    "# Compute class weights based on training data\n",
    "class_weights = class_weight.compute_class_weight(\n",
    "    class_weight='balanced',\n",
    "    classes=np.unique(train_generator.classes),\n",
    "    y=train_generator.classes\n",
    ")\n",
    "\n",
    "# Convert to dictionary format\n",
    "class_weights_dict = dict(enumerate(class_weights))\n",
    "print(\"Class Weights:\", class_weights_dict)\n",
    "\n",
    "# Convert to dictionary format\n",
    "class_weights_dict = dict(enumerate(class_weights))\n",
    "print(\"Class Weights:\", class_weights_dict)"
   ]
  },
  {
   "cell_type": "code",
   "execution_count": 14,
   "id": "f0842f18-237f-44e5-8808-3e4ab599a3db",
   "metadata": {},
   "outputs": [
    {
     "name": "stdout",
     "output_type": "stream",
     "text": [
      "Epoch 1/10\n",
      "530/530 [==============================] - ETA: 0s - loss: 0.7198 - accuracy: 0.6636     \n",
      "Epoch 1: val_accuracy improved from -inf to 0.67509, saving model to best_model_finetuned.h5\n",
      "530/530 [==============================] - 4747s 9s/step - loss: 0.7198 - accuracy: 0.6636 - val_loss: 0.7816 - val_accuracy: 0.6751\n",
      "Epoch 2/10\n",
      "530/530 [==============================] - ETA: 0s - loss: 0.4743 - accuracy: 0.7747     \n",
      "Epoch 2: val_accuracy did not improve from 0.67509\n",
      "530/530 [==============================] - 4712s 9s/step - loss: 0.4743 - accuracy: 0.7747 - val_loss: 1.0158 - val_accuracy: 0.6151\n",
      "Epoch 3/10\n",
      "530/530 [==============================] - ETA: 0s - loss: 0.4055 - accuracy: 0.8081     \n",
      "Epoch 3: val_accuracy improved from 0.67509 to 0.75402, saving model to best_model_finetuned.h5\n",
      "530/530 [==============================] - 4723s 9s/step - loss: 0.4055 - accuracy: 0.8081 - val_loss: 0.6319 - val_accuracy: 0.7540\n",
      "Epoch 4/10\n",
      "530/530 [==============================] - ETA: 0s - loss: 0.3516 - accuracy: 0.8313     \n",
      "Epoch 4: val_accuracy did not improve from 0.75402\n",
      "530/530 [==============================] - 4734s 9s/step - loss: 0.3516 - accuracy: 0.8313 - val_loss: 0.6183 - val_accuracy: 0.7457\n",
      "Epoch 5/10\n",
      "530/530 [==============================] - ETA: 0s - loss: 0.3217 - accuracy: 0.8423     \n",
      "Epoch 5: val_accuracy did not improve from 0.75402\n",
      "530/530 [==============================] - 4734s 9s/step - loss: 0.3217 - accuracy: 0.8423 - val_loss: 0.6330 - val_accuracy: 0.7200\n",
      "Epoch 6/10\n",
      "530/530 [==============================] - ETA: 0s - loss: 0.3163 - accuracy: 0.8499     \n",
      "Epoch 6: val_accuracy improved from 0.75402 to 0.79844, saving model to best_model_finetuned.h5\n",
      "530/530 [==============================] - 4897s 9s/step - loss: 0.3163 - accuracy: 0.8499 - val_loss: 0.5870 - val_accuracy: 0.7984\n",
      "Epoch 7/10\n",
      "530/530 [==============================] - ETA: 0s - loss: 0.2808 - accuracy: 0.8623     \n",
      "Epoch 7: val_accuracy improved from 0.79844 to 0.87382, saving model to best_model_finetuned.h5\n",
      "530/530 [==============================] - 4823s 9s/step - loss: 0.2808 - accuracy: 0.8623 - val_loss: 0.3404 - val_accuracy: 0.8738\n",
      "Epoch 8/10\n",
      "530/530 [==============================] - ETA: 0s - loss: 0.2748 - accuracy: 0.8656     \n",
      "Epoch 8: val_accuracy did not improve from 0.87382\n",
      "530/530 [==============================] - 5202s 10s/step - loss: 0.2748 - accuracy: 0.8656 - val_loss: 0.7992 - val_accuracy: 0.7356\n",
      "Epoch 9/10\n",
      "530/530 [==============================] - ETA: 0s - loss: 0.2738 - accuracy: 0.8680     \n",
      "Epoch 9: val_accuracy did not improve from 0.87382\n",
      "530/530 [==============================] - 5989s 11s/step - loss: 0.2738 - accuracy: 0.8680 - val_loss: 0.7735 - val_accuracy: 0.6973\n",
      "Epoch 10/10\n",
      "530/530 [==============================] - ETA: 0s - loss: 0.2511 - accuracy: 0.8778     \n",
      "Epoch 10: val_accuracy did not improve from 0.87382\n",
      "530/530 [==============================] - 6279s 12s/step - loss: 0.2511 - accuracy: 0.8778 - val_loss: 0.8633 - val_accuracy: 0.7105\n"
     ]
    }
   ],
   "source": [
    "# Step 4: Fine-tune the Model\n",
    "\n",
    "from tensorflow.keras.callbacks import EarlyStopping, ModelCheckpoint\n",
    "\n",
    "checkpoint = ModelCheckpoint(\n",
    "    \"best_model_finetuned.h5\",\n",
    "    monitor=\"val_accuracy\",\n",
    "    save_best_only=True,\n",
    "    verbose=1\n",
    ")\n",
    "\n",
    "early_stop = EarlyStopping(\n",
    "    monitor=\"val_loss\",\n",
    "    patience=5,\n",
    "    restore_best_weights=True,\n",
    "    verbose=1\n",
    ")\n",
    "\n",
    "# Fine-tune for 5–10 more epochs\n",
    "history_finetune = model.fit(\n",
    "    train_generator,\n",
    "    validation_data=val_generator,\n",
    "    epochs=10,\n",
    "    class_weight=class_weights_dict,  # <--- key step\n",
    "    callbacks=[checkpoint, early_stop]\n",
    ")"
   ]
  },
  {
   "cell_type": "code",
   "execution_count": 15,
   "id": "6d188eed-e8c5-4cbe-8649-9a686f73dc2d",
   "metadata": {},
   "outputs": [],
   "source": [
    "# Save Final Fine-Tuned Model\n",
    "\n",
    "model.save(\"final_resnet50_finetuned.h5\")"
   ]
  },
  {
   "cell_type": "raw",
   "id": "abf1a721-38ed-4bda-b2cb-6050e485fa08",
   "metadata": {},
   "source": [
    "Fine-Tuning Summary: ResNet50 (with Class Weights + Unfreezing)\n",
    "\n",
    "Training Setup Recap\n",
    "- Epochs: 10\n",
    "- Class Weights: Used\n",
    "- Model Unfreezed: Yes (likely top layers)\n",
    "- Best Model Checkpoint: best_model_finetuned.h5 saved based on val_accuracy\n",
    "\n",
    "Training & Validation Performance\n",
    "| Epoch | Train Loss | Train Acc | Val Loss | Val Acc |\n",
    "| ----- | ---------- | --------- | -------- | ------- |\n",
    "| 1     | 0.7198     | 0.6636    | 0.7816   | 0.6751  | \n",
    "| 2     | 0.4743     | 0.7747    | 1.0158   | 0.6151  |\n",
    "| 3     | 0.4055     | 0.8081    | 0.6319   | 0.7540  |\n",
    "| 4     | 0.3516     | 0.8313    | 0.6183   | 0.7457  |\n",
    "| 5     | 0.3217     | 0.8423    | 0.6330   | 0.7200  |\n",
    "| 6     | 0.3163     | 0.8499    | 0.5870   | 0.7984  |\n",
    "| 7     | 0.2808     | 0.8623    | 0.3404   | 0.8738  | -> Best\n",
    "| 8     | 0.2748     | 0.8656    | 0.7992   | 0.7356  |\n",
    "| 9     | 0.2738     | 0.8680    | 0.7735   | 0.6973  | \n",
    "| 10    | 0.2511     | 0.8778    | 0.8633   | 0.7105  |\n",
    "\n",
    "Key Observations\n",
    "- Best Validation Accuracy: 87.38% at Epoch 7\n",
    "- Overfitting Signs:\n",
    "  - After Epoch 7, although training accuracy continued to improve, validation accuracy dropped.\n",
    "  - Indicates overfitting in later epochs."
   ]
  },
  {
   "cell_type": "code",
   "execution_count": 16,
   "id": "78b2a9f1-9ddd-409e-a06f-a19d9b421a67",
   "metadata": {},
   "outputs": [],
   "source": [
    "# Re-Evaluate the Fine-Tuned Model\n",
    "\n",
    "# Let’s now run a new classification report and confusion matrix using the best fine-tuned model to confirm improvement across all 4 classes.\n",
    "\n",
    "# Step 1: Load the Fine-tuned Best Model\n",
    "\n",
    "from tensorflow.keras.models import load_model\n",
    "\n",
    "# Load best fine-tuned weights\n",
    "model = load_model(\"best_model_finetuned.h5\")"
   ]
  },
  {
   "cell_type": "code",
   "execution_count": 17,
   "id": "d6251adb-9bf0-4e4e-a892-db6ba78be1fd",
   "metadata": {},
   "outputs": [
    {
     "name": "stdout",
     "output_type": "stream",
     "text": [
      "133/133 [==============================] - 837s 6s/step\n"
     ]
    }
   ],
   "source": [
    "# Step 2: Predict and Evaluate\n",
    "\n",
    "from sklearn.metrics import classification_report, confusion_matrix, roc_auc_score\n",
    "import numpy as np\n",
    "\n",
    "# Get true labels and predicted probabilities\n",
    "val_generator.reset()\n",
    "Y_true = val_generator.classes\n",
    "Y_pred_prob = model.predict(val_generator)\n",
    "Y_pred = np.argmax(Y_pred_prob, axis=1)\n",
    "\n",
    "# Class names from generator\n",
    "class_labels = list(val_generator.class_indices.keys())"
   ]
  },
  {
   "cell_type": "code",
   "execution_count": 18,
   "id": "1a083cf4-413b-46c9-a314-77ac299108f1",
   "metadata": {},
   "outputs": [
    {
     "name": "stdout",
     "output_type": "stream",
     "text": [
      "Confusion Matrix:\n",
      " [[ 633   42   47    1]\n",
      " [  38  987  177    0]\n",
      " [  65  109 1847   17]\n",
      " [   8    8   22  231]]\n",
      "Classification Report:\n",
      "                  precision    recall  f1-score   support\n",
      "\n",
      "          COVID       0.85      0.88      0.86       723\n",
      "   Lung_Opacity       0.86      0.82      0.84      1202\n",
      "         Normal       0.88      0.91      0.89      2038\n",
      "Viral Pneumonia       0.93      0.86      0.89       269\n",
      "\n",
      "       accuracy                           0.87      4232\n",
      "      macro avg       0.88      0.87      0.87      4232\n",
      "   weighted avg       0.87      0.87      0.87      4232\n",
      "\n",
      "AUC Score (macro): 0.9750\n"
     ]
    }
   ],
   "source": [
    "# Confusion Matrix\n",
    "cm = confusion_matrix(Y_true, Y_pred)\n",
    "print(\"Confusion Matrix:\\n\", cm)\n",
    "\n",
    "# Classification Report\n",
    "print(\"Classification Report:\\n\", classification_report(Y_true, Y_pred, target_names=class_labels, zero_division=0))\n",
    "\n",
    "# AUC Score (macro average)\n",
    "try:\n",
    "    auc = roc_auc_score(tf.keras.utils.to_categorical(Y_true), Y_pred_prob, multi_class='ovo', average='macro')\n",
    "    print(f\"AUC Score (macro): {auc:.4f}\")\n",
    "except Exception as e:\n",
    "    print(\"AUC Score could not be computed:\", str(e))"
   ]
  },
  {
   "cell_type": "raw",
   "id": "d6c58db6-1a47-4734-83ad-bd8d74785858",
   "metadata": {},
   "source": [
    "Here's your final evaluation summary after fine-tuning the ResNet50 model, including class weights and unfreezing:\n",
    "\n",
    "Final Evaluation Summary\n",
    "************************\n",
    "Confusion Matrix\n",
    "                 (Predicted)\n",
    "               |  COV | LO  | NOR | VP\n",
    "-----------------------------------------\n",
    "COVID          | 633 | 42  |  47 |  1\n",
    "Lung_Opacity   | 38  | 987 | 177 |  0\n",
    "Normal         | 65  | 109 |1847 | 17\n",
    "Viral Pneumonia|  8  |  8  |  22 |231\n",
    "LO = Lung_Opacity, NOR = Normal, VP = Viral Pneumonia\n",
    "\n",
    "\n",
    "Classification Report\n",
    "*********************\n",
    "| Class                | Precision | Recall | F1-Score | Support |\n",
    "| -------------------- | --------- | ------ | -------- | ------- |\n",
    "| **COVID**            | 0.85      | 0.88   | 0.86     | 723     |\n",
    "| **Lung\\_Opacity**    | 0.86      | 0.82   | 0.84     | 1202    |\n",
    "| **Normal**           | 0.88      | 0.91   | 0.89     | 2038    |\n",
    "| **Viral Pneumonia**  | 0.93      | 0.86   | 0.89     | 269     |\n",
    "| **Overall Accuracy** |           |        | **0.87** | 4232    |\n",
    "| **Macro Avg**        | 0.88      | 0.87   | 0.87     |         |\n",
    "| **Weighted Avg**     | 0.87      | 0.87   | 0.87     |         |\n",
    "\n",
    "\n",
    "Insights & Observations\n",
    "***********************\n",
    "Highest Performance:\n",
    "Viral Pneumonia shows the highest precision (0.93) — likely due to distinct radiographic features and fewer inter-class overlaps.\n",
    "\n",
    "Slight Confusion:\n",
    "Lung_Opacity misclassified as Normal or COVID — common due to radiological similarity in opacity-based classes.\n",
    "\n",
    "Balanced Recall & F1:\n",
    "All classes show good balance between precision and recall, indicating no major class is being ignored (no strong bias despite class imbalance).\n",
    "\n",
    "Strong AUC (Macro):\n",
    "AUC macro = 0.9750 → Excellent general separability across all 4 classes.\n",
    "\n",
    "\n",
    "- Final Evaluation Accuracy: 87.0%\n",
    "Out of 4232 test samples, 87% were correctly classified to the exact class. (Proportion of total correct predictions)\n",
    "\n",
    "- AUC Score (Macro): 97.5%\n",
    "Model is very good at ranking the true class higher than the wrong ones — even if the predicted class isn't always exactly correct. It evaluates the full spectrum of predicted probabilities — not just the final class label. (Ability of the model to rank positives over negatives)"
   ]
  },
  {
   "cell_type": "code",
   "execution_count": 19,
   "id": "332ea308-3ce4-44e1-b1b8-75161bb0ee54",
   "metadata": {},
   "outputs": [],
   "source": [
    "# Save Final Fine-Tuned Model\n",
    "\n",
    "model.save(\"final_resnet50_finetuned.h5\")"
   ]
  }
 ],
 "metadata": {
  "kernelspec": {
   "display_name": "Python 3.8 (tensorflow)",
   "language": "python",
   "name": "tensorflow"
  },
  "language_info": {
   "codemirror_mode": {
    "name": "ipython",
    "version": 3
   },
   "file_extension": ".py",
   "mimetype": "text/x-python",
   "name": "python",
   "nbconvert_exporter": "python",
   "pygments_lexer": "ipython3",
   "version": "3.9.18"
  }
 },
 "nbformat": 4,
 "nbformat_minor": 5
}
